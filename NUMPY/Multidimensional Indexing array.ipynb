{
 "cells": [
  {
   "cell_type": "code",
   "execution_count": 5,
   "id": "28703a20-6721-4a76-ad81-606d1b4f3426",
   "metadata": {},
   "outputs": [],
   "source": [
    "import numpy as np \n",
    "arr = np.array([[1,2,3],\n",
    "              [4,5,6],\n",
    "              [7,8,9],\n",
    "              [10,11,12]])"
   ]
  },
  {
   "cell_type": "code",
   "execution_count": 7,
   "id": "0b9f9c4b-f17d-4d47-9d18-7f14b82324a6",
   "metadata": {},
   "outputs": [
    {
     "data": {
      "text/plain": [
       "array([[ 1,  2,  3],\n",
       "       [ 4,  5,  6],\n",
       "       [ 7,  8,  9],\n",
       "       [10, 11, 12]])"
      ]
     },
     "execution_count": 7,
     "metadata": {},
     "output_type": "execute_result"
    }
   ],
   "source": [
    "arr"
   ]
  },
  {
   "cell_type": "code",
   "execution_count": 11,
   "id": "472a7e6e-f6ef-4178-90f2-d70b49ae2e97",
   "metadata": {},
   "outputs": [
    {
     "data": {
      "text/plain": [
       "array([22, 26, 30])"
      ]
     },
     "execution_count": 11,
     "metadata": {},
     "output_type": "execute_result"
    }
   ],
   "source": [
    "np.sum(arr,axis=0) #axis = 0 means from row from top to down"
   ]
  },
  {
   "cell_type": "code",
   "execution_count": 13,
   "id": "6588c578-dcb6-4ff4-839f-ed34aa45d97f",
   "metadata": {},
   "outputs": [
    {
     "data": {
      "text/plain": [
       "array([ 6, 15, 24, 33])"
      ]
     },
     "execution_count": 13,
     "metadata": {},
     "output_type": "execute_result"
    }
   ],
   "source": [
    "np.sum(arr,axis=1) #axis = 1 means from col from left to right\n"
   ]
  },
  {
   "cell_type": "code",
   "execution_count": 15,
   "id": "78753c3f-e155-4225-a0f3-a9ecec8d385d",
   "metadata": {},
   "outputs": [
    {
     "data": {
      "text/plain": [
       "2"
      ]
     },
     "execution_count": 15,
     "metadata": {},
     "output_type": "execute_result"
    }
   ],
   "source": [
    "arr[0][1]"
   ]
  },
  {
   "cell_type": "code",
   "execution_count": 19,
   "id": "a66290da-9ec4-4c07-8af1-a4e0a647918f",
   "metadata": {},
   "outputs": [
    {
     "data": {
      "text/plain": [
       "2"
      ]
     },
     "execution_count": 19,
     "metadata": {},
     "output_type": "execute_result"
    }
   ],
   "source": [
    "arr[0,1] #first argument row second column"
   ]
  },
  {
   "cell_type": "code",
   "execution_count": 29,
   "id": "aeffa135-c9e7-40d5-ad0d-7817671500aa",
   "metadata": {},
   "outputs": [
    {
     "data": {
      "text/plain": [
       "array([[2, 3],\n",
       "       [5, 6]])"
      ]
     },
     "execution_count": 29,
     "metadata": {},
     "output_type": "execute_result"
    }
   ],
   "source": [
    "# Multidimensional indexing\n",
    "arr[0:2,1:3] #orws from 0 to 2 means 0 and 1  and col from 1 to 3 means col 1 and col 2"
   ]
  },
  {
   "cell_type": "code",
   "execution_count": 37,
   "id": "0636a8e0-af21-42dc-b32d-e1dff1b7d95d",
   "metadata": {},
   "outputs": [],
   "source": [
    "# Indexing in 3d arrays\n",
    "arr3D = np.array([ [[1,2,3],[4,5,6]],\n",
    "                   [[7,8,9],[10,11,12]]\n",
    "                  ])"
   ]
  },
  {
   "cell_type": "code",
   "execution_count": 41,
   "id": "7ac81016-5d77-40b0-a5ad-d65a74abef71",
   "metadata": {},
   "outputs": [
    {
     "data": {
      "text/plain": [
       "(2, 2, 3)"
      ]
     },
     "execution_count": 41,
     "metadata": {},
     "output_type": "execute_result"
    }
   ],
   "source": [
    "arr3D.shape #(depth,rows,columns)\n"
   ]
  },
  {
   "cell_type": "code",
   "execution_count": 45,
   "id": "4734a4cd-2db8-49fd-94d2-8e5a0c887fc5",
   "metadata": {},
   "outputs": [
    {
     "data": {
      "text/plain": [
       "6"
      ]
     },
     "execution_count": 45,
     "metadata": {},
     "output_type": "execute_result"
    }
   ],
   "source": [
    "arr3D[0,1,2] #first sheet second row third column"
   ]
  },
  {
   "cell_type": "code",
   "execution_count": 55,
   "id": "f6e070c6-fc91-49f0-aa9f-c176b164f1ff",
   "metadata": {},
   "outputs": [
    {
     "data": {
      "text/plain": [
       "array([[1, 2, 3],\n",
       "       [7, 8, 9]])"
      ]
     },
     "execution_count": 55,
     "metadata": {},
     "output_type": "execute_result"
    }
   ],
   "source": [
    "arr3D[:,0,:] #get the first row from both sheet  \":\" this means considering all"
   ]
  },
  {
   "cell_type": "code",
   "execution_count": 58,
   "id": "527fb27d-0c3a-43fe-97cc-260b4a570178",
   "metadata": {},
   "outputs": [],
   "source": [
    "arr3D[:,0,:] = 0"
   ]
  },
  {
   "cell_type": "code",
   "execution_count": 60,
   "id": "64769b9a-0a7e-4e30-83b2-e1279822e789",
   "metadata": {},
   "outputs": [
    {
     "data": {
      "text/plain": [
       "array([[[ 0,  0,  0],\n",
       "        [ 4,  5,  6]],\n",
       "\n",
       "       [[ 0,  0,  0],\n",
       "        [10, 11, 12]]])"
      ]
     },
     "execution_count": 60,
     "metadata": {},
     "output_type": "execute_result"
    }
   ],
   "source": [
    "arr3D"
   ]
  },
  {
   "cell_type": "code",
   "execution_count": null,
   "id": "793f2ab8-359a-4333-a953-7eb19ff76c0f",
   "metadata": {},
   "outputs": [],
   "source": []
  },
  {
   "cell_type": "code",
   "execution_count": null,
   "id": "ecec46e0-0c10-42ea-b649-9a5c9cd1bf65",
   "metadata": {},
   "outputs": [],
   "source": []
  }
 ],
 "metadata": {
  "kernelspec": {
   "display_name": "Python [conda env:base] *",
   "language": "python",
   "name": "conda-base-py"
  },
  "language_info": {
   "codemirror_mode": {
    "name": "ipython",
    "version": 3
   },
   "file_extension": ".py",
   "mimetype": "text/x-python",
   "name": "python",
   "nbconvert_exporter": "python",
   "pygments_lexer": "ipython3",
   "version": "3.12.7"
  }
 },
 "nbformat": 4,
 "nbformat_minor": 5
}
