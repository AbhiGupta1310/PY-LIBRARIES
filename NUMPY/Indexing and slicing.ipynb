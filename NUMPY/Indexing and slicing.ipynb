{
 "cells": [
  {
   "cell_type": "code",
   "execution_count": 4,
   "id": "a074f748-c6be-4703-a1f3-383b6c9c4279",
   "metadata": {},
   "outputs": [],
   "source": [
    "import numpy as np\n",
    "arr = np.array([[1,2,3],[4,5,6],[7,8,9],[10,11,12]])"
   ]
  },
  {
   "cell_type": "code",
   "execution_count": 82,
   "id": "7974f9ae-74ed-4c8c-980a-935e22f1c340",
   "metadata": {},
   "outputs": [
    {
     "data": {
      "text/plain": [
       "array([[ 1,  2,  3],\n",
       "       [ 4,  5,  6],\n",
       "       [ 7,  8,  9],\n",
       "       [10, 11, 12]])"
      ]
     },
     "execution_count": 82,
     "metadata": {},
     "output_type": "execute_result"
    }
   ],
   "source": [
    "arr"
   ]
  },
  {
   "cell_type": "code",
   "execution_count": 84,
   "id": "9d839137-e9eb-4034-ac3f-8aab25e9ef91",
   "metadata": {},
   "outputs": [
    {
     "data": {
      "text/plain": [
       "array([ 1,  2,  3,  4,  5,  6,  7,  8,  9, 10, 11, 12])"
      ]
     },
     "execution_count": 84,
     "metadata": {},
     "output_type": "execute_result"
    }
   ],
   "source": [
    "flat = arr.flatten()\n",
    "flat"
   ]
  },
  {
   "cell_type": "code",
   "execution_count": 86,
   "id": "4d8beb06-a178-4f62-9b53-720bbe74faa0",
   "metadata": {},
   "outputs": [
    {
     "data": {
      "text/plain": [
       "1"
      ]
     },
     "execution_count": 86,
     "metadata": {},
     "output_type": "execute_result"
    }
   ],
   "source": [
    "flat[0]"
   ]
  },
  {
   "cell_type": "code",
   "execution_count": 88,
   "id": "9751aaf3-4994-4549-afe9-1432a060c26b",
   "metadata": {},
   "outputs": [
    {
     "data": {
      "text/plain": [
       "array([1, 2, 3, 4, 5])"
      ]
     },
     "execution_count": 88,
     "metadata": {},
     "output_type": "execute_result"
    }
   ],
   "source": [
    "flat[:5]"
   ]
  },
  {
   "cell_type": "code",
   "execution_count": 90,
   "id": "b1a84b4f-a1b9-4edc-be74-b4768aa577ff",
   "metadata": {},
   "outputs": [
    {
     "data": {
      "text/plain": [
       "array([ 1,  3,  5,  7,  9, 11])"
      ]
     },
     "execution_count": 90,
     "metadata": {},
     "output_type": "execute_result"
    }
   ],
   "source": [
    "flat[::2] #every 2 nd element"
   ]
  },
  {
   "cell_type": "code",
   "execution_count": 92,
   "id": "09f8ea7f-1a47-4325-9990-75773fe15bd7",
   "metadata": {},
   "outputs": [
    {
     "data": {
      "text/plain": [
       "array([ 1,  2,  3,  4,  5,  6,  7,  8,  9, 10, 11, 12])"
      ]
     },
     "execution_count": 92,
     "metadata": {},
     "output_type": "execute_result"
    }
   ],
   "source": [
    "flat"
   ]
  },
  {
   "cell_type": "code",
   "execution_count": 104,
   "id": "001ea800-85b5-4ba3-b7ed-7074c2b63890",
   "metadata": {},
   "outputs": [],
   "source": [
    "b = flat[3:7].copy() #this is copy if i make this then changes will not affect the original array"
   ]
  },
  {
   "cell_type": "code",
   "execution_count": 96,
   "id": "bb597700-670d-4142-a5bb-bef0ce1f80ab",
   "metadata": {},
   "outputs": [
    {
     "data": {
      "text/plain": [
       "array([4, 5, 6, 7])"
      ]
     },
     "execution_count": 96,
     "metadata": {},
     "output_type": "execute_result"
    }
   ],
   "source": [
    "b"
   ]
  },
  {
   "cell_type": "code",
   "execution_count": 98,
   "id": "f89dbd86-b754-48e4-a815-0c4a372642eb",
   "metadata": {},
   "outputs": [],
   "source": [
    "b[2] = 444"
   ]
  },
  {
   "cell_type": "code",
   "execution_count": 100,
   "id": "3f6fa950-bd19-434c-9910-7fa46f6fb6a2",
   "metadata": {},
   "outputs": [
    {
     "data": {
      "text/plain": [
       "array([  4,   5, 444,   7])"
      ]
     },
     "execution_count": 100,
     "metadata": {},
     "output_type": "execute_result"
    }
   ],
   "source": [
    "b"
   ]
  },
  {
   "cell_type": "code",
   "execution_count": 102,
   "id": "8df2e2eb-68b1-46be-897a-9a9747683206",
   "metadata": {},
   "outputs": [
    {
     "data": {
      "text/plain": [
       "array([ 1,  2,  3,  4,  5,  6,  7,  8,  9, 10, 11, 12])"
      ]
     },
     "execution_count": 102,
     "metadata": {},
     "output_type": "execute_result"
    }
   ],
   "source": [
    "flat #this is because slicing returns the view not a copy Changes affect the original array"
   ]
  },
  {
   "cell_type": "code",
   "execution_count": 106,
   "id": "3ded4de3-90d4-4a46-b01a-c137021f45f3",
   "metadata": {},
   "outputs": [],
   "source": [
    "arr = np.array([1,54,23,45,6,7,8,77])"
   ]
  },
  {
   "cell_type": "code",
   "execution_count": 110,
   "id": "6b726e00-5bad-48f0-acb0-069b3e95ca92",
   "metadata": {},
   "outputs": [
    {
     "data": {
      "text/plain": [
       "array([54, 45,  7])"
      ]
     },
     "execution_count": 110,
     "metadata": {},
     "output_type": "execute_result"
    }
   ],
   "source": [
    "arr[[1,3,5]] #fancy indexing"
   ]
  },
  {
   "cell_type": "code",
   "execution_count": 115,
   "id": "29430afa-25c0-48f2-899a-740d5b2c6123",
   "metadata": {},
   "outputs": [
    {
     "data": {
      "text/plain": [
       "array([54, 23, 45, 77])"
      ]
     },
     "execution_count": 115,
     "metadata": {},
     "output_type": "execute_result"
    }
   ],
   "source": [
    "arr[arr>10] #boolean masking"
   ]
  },
  {
   "cell_type": "code",
   "execution_count": 117,
   "id": "4236a7cf-f412-4b41-8995-6809ae828ade",
   "metadata": {},
   "outputs": [],
   "source": [
    "# Exercises for Practice\n",
    "# • Create a 3×3 array filled with random numbers and print its shape.\n",
    "# • Convert an array of floats [1.1, 2.2, 3.3] into integers.\n",
    "# • Use fancy indexing to extract even numbers from [1, 2, 3, 4, 5, 6] .\n",
    "# • Reshape a 1D array of size 9 into a 3x3 matrix.\n",
    "# • Use boolean masking to filter numbers greater than 50 in an array."
   ]
  },
  {
   "cell_type": "code",
   "execution_count": 139,
   "id": "70f7c855-9194-4d6c-84b2-dd38c1f68bf7",
   "metadata": {},
   "outputs": [],
   "source": [
    "import random\n",
    "arr = np.random.randint(1, 101, size=(3, 3)) #Q1"
   ]
  },
  {
   "cell_type": "code",
   "execution_count": 141,
   "id": "5dbb3292-326e-478f-b8d3-3b4d81ff04d2",
   "metadata": {},
   "outputs": [
    {
     "data": {
      "text/plain": [
       "array([[48, 60, 36],\n",
       "       [27, 78, 10],\n",
       "       [38, 22, 83]])"
      ]
     },
     "execution_count": 141,
     "metadata": {},
     "output_type": "execute_result"
    }
   ],
   "source": [
    "arr\n"
   ]
  },
  {
   "cell_type": "code",
   "execution_count": 203,
   "id": "82fdec3a-3d81-47d0-8115-5ec5143d5c34",
   "metadata": {},
   "outputs": [],
   "source": [
    "arr = np.array([1.1,2.2,3.3])"
   ]
  },
  {
   "cell_type": "code",
   "execution_count": 213,
   "id": "ff2a02a1-4666-4e6d-9cae-ef0d63f39dd5",
   "metadata": {},
   "outputs": [],
   "source": [
    "integer_arr = arr.astype(int) #Q2"
   ]
  },
  {
   "cell_type": "code",
   "execution_count": 215,
   "id": "5c52d535-12e9-45af-bb53-cbc846f7b75e",
   "metadata": {},
   "outputs": [
    {
     "data": {
      "text/plain": [
       "array([1, 2, 3])"
      ]
     },
     "execution_count": 215,
     "metadata": {},
     "output_type": "execute_result"
    }
   ],
   "source": [
    "integer_arr"
   ]
  },
  {
   "cell_type": "code",
   "execution_count": 224,
   "id": "7e078826-c577-4e77-a6cf-6ebc45568b70",
   "metadata": {},
   "outputs": [
    {
     "data": {
      "text/plain": [
       "array([1, 3, 5])"
      ]
     },
     "execution_count": 224,
     "metadata": {},
     "output_type": "execute_result"
    }
   ],
   "source": [
    "arr = np.array([1,2,3,4,5,6]) \n",
    "arr[[0,2,4]] #Q3"
   ]
  },
  {
   "cell_type": "code",
   "execution_count": 230,
   "id": "ada4a255-a21e-4a97-ab60-cc1a7e6620b6",
   "metadata": {},
   "outputs": [],
   "source": [
    "arr = np.ones(9,dtype=int)"
   ]
  },
  {
   "cell_type": "code",
   "execution_count": 232,
   "id": "652dfdaf-905a-427e-b19c-8dedfae66164",
   "metadata": {},
   "outputs": [
    {
     "data": {
      "text/plain": [
       "array([1, 1, 1, 1, 1, 1, 1, 1, 1])"
      ]
     },
     "execution_count": 232,
     "metadata": {},
     "output_type": "execute_result"
    }
   ],
   "source": [
    "arr"
   ]
  },
  {
   "cell_type": "code",
   "execution_count": 234,
   "id": "577527ab-5efd-43d9-8e61-54bbcb58d4ce",
   "metadata": {},
   "outputs": [
    {
     "data": {
      "text/plain": [
       "array([[1, 1, 1],\n",
       "       [1, 1, 1],\n",
       "       [1, 1, 1]])"
      ]
     },
     "execution_count": 234,
     "metadata": {},
     "output_type": "execute_result"
    }
   ],
   "source": [
    "arr.reshape(3,3)"
   ]
  },
  {
   "cell_type": "code",
   "execution_count": 274,
   "id": "9562789b-b166-4c70-9490-565eb8610aa6",
   "metadata": {},
   "outputs": [],
   "source": [
    "arr = np.random.randint(1,101,size = (3,3))"
   ]
  },
  {
   "cell_type": "code",
   "execution_count": 276,
   "id": "d9669016-230e-4aa8-8b44-661a58aeea59",
   "metadata": {},
   "outputs": [
    {
     "data": {
      "text/plain": [
       "array([73, 84, 67, 70, 69, 86])"
      ]
     },
     "execution_count": 276,
     "metadata": {},
     "output_type": "execute_result"
    }
   ],
   "source": [
    "arr[arr>50]"
   ]
  },
  {
   "cell_type": "code",
   "execution_count": null,
   "id": "d3561f9c-f011-48d4-a42d-3406a51087f5",
   "metadata": {},
   "outputs": [],
   "source": []
  }
 ],
 "metadata": {
  "kernelspec": {
   "display_name": "Python [conda env:base] *",
   "language": "python",
   "name": "conda-base-py"
  },
  "language_info": {
   "codemirror_mode": {
    "name": "ipython",
    "version": 3
   },
   "file_extension": ".py",
   "mimetype": "text/x-python",
   "name": "python",
   "nbconvert_exporter": "python",
   "pygments_lexer": "ipython3",
   "version": "3.12.7"
  }
 },
 "nbformat": 4,
 "nbformat_minor": 5
}
