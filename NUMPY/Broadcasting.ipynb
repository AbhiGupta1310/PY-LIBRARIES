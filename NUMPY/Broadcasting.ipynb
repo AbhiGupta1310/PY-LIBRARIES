{
 "cells": [
  {
   "cell_type": "code",
   "execution_count": 2,
   "id": "85b72d7f-0ea0-4d5b-85f5-24046a02c939",
   "metadata": {},
   "outputs": [],
   "source": [
    "import numpy as np "
   ]
  },
  {
   "cell_type": "code",
   "execution_count": 8,
   "id": "ff3f68db-eb7a-48da-8985-6839b83b3c35",
   "metadata": {},
   "outputs": [
    {
     "data": {
      "text/plain": [
       "array([ 1,  4,  9, 16, 25])"
      ]
     },
     "execution_count": 8,
     "metadata": {},
     "output_type": "execute_result"
    }
   ],
   "source": [
    "arr = np.array([1,2,3,4,5])\n",
    "result = arr**2 #Vectorized operation\n",
    "result"
   ]
  },
  {
   "cell_type": "code",
   "execution_count": 9,
   "id": "d9d719ce-8481-47a6-892b-7459429d86c2",
   "metadata": {},
   "outputs": [
    {
     "data": {
      "text/plain": [
       "array([11, 14, 19, 26, 35])"
      ]
     },
     "execution_count": 9,
     "metadata": {},
     "output_type": "execute_result"
    }
   ],
   "source": [
    "result+10"
   ]
  },
  {
   "cell_type": "code",
   "execution_count": 14,
   "id": "5772c6a2-396c-4884-aedf-17e0badc8d24",
   "metadata": {},
   "outputs": [
    {
     "data": {
      "text/plain": [
       "array([[2, 4, 6],\n",
       "       [5, 7, 9]])"
      ]
     },
     "execution_count": 14,
     "metadata": {},
     "output_type": "execute_result"
    }
   ],
   "source": [
    "arr1 = np.array([[1,2,3],[4,5,6]])\n",
    "arr2  = np.array([1,2,3]) #Broadcasting arr2 across arr1\n",
    "result = arr1+arr2\n",
    "result"
   ]
  },
  {
   "cell_type": "code",
   "execution_count": 16,
   "id": "83de89ee-ae9d-4290-8c8e-b02575dff7db",
   "metadata": {},
   "outputs": [
    {
     "name": "stdout",
     "output_type": "stream",
     "text": [
      "[[-1.41421356 -1.41421356 -1.41421356]\n",
      " [-0.70710678 -0.70710678 -0.70710678]\n",
      " [ 0.          0.          0.        ]\n",
      " [ 0.70710678  0.70710678  0.70710678]\n",
      " [ 1.41421356  1.41421356  1.41421356]]\n"
     ]
    }
   ],
   "source": [
    "# Simulating a dataset (5 samples, 3 features)\n",
    "data = np.array([[10,20,30],\n",
    "               [15,25,35],\n",
    "               [20,30,40],\n",
    "               [25,35,45],\n",
    "               [30,40,50]])\n",
    "# Calculating mean and std deviatin for each feature(column)\n",
    "mean = data.mean(axis=0)\n",
    "std = data.std(axis=0)\n",
    "# Normailizing the data using broadcasting\n",
    "noramilzed_data = (data-mean) / std\n",
    "print(noramilzed_data)"
   ]
  },
  {
   "cell_type": "raw",
   "id": "99bce95d-03fc-4d5b-b514-bb988f201d54",
   "metadata": {},
   "source": [
    "# Summary:\n",
    "# Loops are slow because Python's interpreter adds overhead, making iteration less efficient.\n",
    "# Vectorization allows you to apply operations to entire arrays at once, greatly improving performance by utilizing NumPy’s optimized C backend.\n",
    "# Broadcasting enables operations between arrays of different shapes by automatically stretching the smaller array to match the shape of the larger array, without creating additional copies.\n",
    "# Real-world use: Broadcasting can be used in data science tasks, such as normalizing datasets, without sacrificing memory or performance."
   ]
  }
 ],
 "metadata": {
  "kernelspec": {
   "display_name": "Python 3 (ipykernel)",
   "language": "python",
   "name": "python3"
  },
  "language_info": {
   "codemirror_mode": {
    "name": "ipython",
    "version": 3
   },
   "file_extension": ".py",
   "mimetype": "text/x-python",
   "name": "python",
   "nbconvert_exporter": "python",
   "pygments_lexer": "ipython3",
   "version": "3.12.2"
  }
 },
 "nbformat": 4,
 "nbformat_minor": 5
}
