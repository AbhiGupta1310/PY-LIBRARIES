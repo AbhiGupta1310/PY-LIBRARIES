{
 "cells": [
  {
   "cell_type": "code",
   "execution_count": 1,
   "id": "ad60d573-7800-4484-a3fa-636b4228423f",
   "metadata": {},
   "outputs": [],
   "source": [
    "import numpy as np "
   ]
  },
  {
   "cell_type": "code",
   "execution_count": 11,
   "id": "79a15bfe-ad05-4c3e-a692-842b12824eb4",
   "metadata": {},
   "outputs": [],
   "source": [
    "arr = np.array([23,4,3,23])"
   ]
  },
  {
   "cell_type": "code",
   "execution_count": 13,
   "id": "d664d6a0-e80a-47e5-86a9-db3e2131c145",
   "metadata": {},
   "outputs": [
    {
     "data": {
      "text/plain": [
       "dtype('int64')"
      ]
     },
     "execution_count": 13,
     "metadata": {},
     "output_type": "execute_result"
    }
   ],
   "source": [
    "arr.dtype"
   ]
  },
  {
   "cell_type": "code",
   "execution_count": 15,
   "id": "3371a882-92ff-4207-9985-9b5efc9ef397",
   "metadata": {},
   "outputs": [
    {
     "data": {
      "text/plain": [
       "array([23,  4,  3, 23], dtype=int32)"
      ]
     },
     "execution_count": 15,
     "metadata": {},
     "output_type": "execute_result"
    }
   ],
   "source": [
    "arr.astype('int32')"
   ]
  },
  {
   "cell_type": "code",
   "execution_count": 17,
   "id": "836946f8-6a3a-45b9-a479-a4492339cd47",
   "metadata": {},
   "outputs": [
    {
     "data": {
      "text/plain": [
       "dtype('int64')"
      ]
     },
     "execution_count": 17,
     "metadata": {},
     "output_type": "execute_result"
    }
   ],
   "source": [
    "arr.dtype"
   ]
  },
  {
   "cell_type": "code",
   "execution_count": 21,
   "id": "ce5ccb82-ff25-4bce-977f-80b7d3775208",
   "metadata": {},
   "outputs": [],
   "source": [
    "arr2 = np.array([23,4,3,23],dtype='float32')\n"
   ]
  },
  {
   "cell_type": "code",
   "execution_count": 25,
   "id": "a121437d-cc28-411a-a15e-7fe5b8df7cbd",
   "metadata": {},
   "outputs": [
    {
     "data": {
      "text/plain": [
       "dtype('float32')"
      ]
     },
     "execution_count": 25,
     "metadata": {},
     "output_type": "execute_result"
    }
   ],
   "source": [
    "arr2.dtype"
   ]
  },
  {
   "cell_type": "code",
   "execution_count": 27,
   "id": "82e039d7-9e1b-4b65-8227-2a810008f1f4",
   "metadata": {},
   "outputs": [
    {
     "data": {
      "text/plain": [
       "array([23.,  4.,  3., 23.], dtype=float32)"
      ]
     },
     "execution_count": 27,
     "metadata": {},
     "output_type": "execute_result"
    }
   ],
   "source": [
    "arr2"
   ]
  },
  {
   "cell_type": "code",
   "execution_count": null,
   "id": "5a96d32f-6157-4c05-9605-4f531937778e",
   "metadata": {},
   "outputs": [],
   "source": []
  }
 ],
 "metadata": {
  "kernelspec": {
   "display_name": "Python [conda env:base] *",
   "language": "python",
   "name": "conda-base-py"
  },
  "language_info": {
   "codemirror_mode": {
    "name": "ipython",
    "version": 3
   },
   "file_extension": ".py",
   "mimetype": "text/x-python",
   "name": "python",
   "nbconvert_exporter": "python",
   "pygments_lexer": "ipython3",
   "version": "3.12.7"
  }
 },
 "nbformat": 4,
 "nbformat_minor": 5
}
