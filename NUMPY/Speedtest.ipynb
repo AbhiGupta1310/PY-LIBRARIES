{
 "cells": [
  {
   "cell_type": "code",
   "execution_count": 19,
   "id": "e969bf67-d958-4151-826b-13d6c7240419",
   "metadata": {},
   "outputs": [
    {
     "data": {
      "text/plain": [
       "[(1, 4), (2, 5), (3, 6)]"
      ]
     },
     "execution_count": 19,
     "metadata": {},
     "output_type": "execute_result"
    }
   ],
   "source": [
    "# Python zip\n",
    "l1 = [1,2,3]\n",
    "l2 = [4,5,6]\n",
    "list(zip(l1,l2))"
   ]
  },
  {
   "cell_type": "code",
   "execution_count": 13,
   "id": "8722dd9a-a497-4eb9-8c22-aea9003cc4a2",
   "metadata": {},
   "outputs": [
    {
     "name": "stdout",
     "output_type": "stream",
     "text": [
      "[0, 2, 4, 6, 8, 10, 12, 14, 16, 18]\n",
      "0.04581093788146973\n"
     ]
    }
   ],
   "source": [
    "# using python lists\n",
    "import numpy as np \n",
    "import time\n",
    "\n",
    "size  = 1_000_000\n",
    "\n",
    "l1 = list(range(size))\n",
    "l2 = list(range(size))\n",
    "\n",
    "start = time.time()\n",
    "add = [x+y for x,y in zip(l1,l2) ]\n",
    "end = time.time()\n",
    "print(add[0:10])\n",
    "print(end-start)"
   ]
  },
  {
   "cell_type": "code",
   "execution_count": 15,
   "id": "da6d92e5-bf9b-4854-826d-20a8dec15a7d",
   "metadata": {},
   "outputs": [
    {
     "name": "stdout",
     "output_type": "stream",
     "text": [
      "[ 0  2  4  6  8 10 12 14 16 18]\n",
      "0.007946968078613281\n"
     ]
    }
   ],
   "source": [
    "# using python lists\n",
    "import numpy as np \n",
    "import time\n",
    "\n",
    "size  = 1_000_000\n",
    "\n",
    "l1 = np.array(list(range(size)))\n",
    "l2 = np.array(list(range(size)))\n",
    "\n",
    "start = time.time()\n",
    "add = l1+l2\n",
    "end = time.time()\n",
    "print(add[0:10])\n",
    "print(end-start)"
   ]
  },
  {
   "cell_type": "code",
   "execution_count": 35,
   "id": "92cf1c1c-4f47-467c-a854-638980493ced",
   "metadata": {},
   "outputs": [
    {
     "name": "stdout",
     "output_type": "stream",
     "text": [
      "0.36179113388061523\n"
     ]
    }
   ],
   "source": [
    "# Vectorization\n",
    "import numpy as np \n",
    "import time\n",
    "size = 1_000_000_0\n",
    "list1 = list(range(size))\n",
    "start = time.time()\n",
    "list2 = [x**2 for x in list1]\n",
    "end = time.time()\n",
    "# print(list2)\n",
    "print(end-start)\n"
   ]
  },
  {
   "cell_type": "code",
   "execution_count": 37,
   "id": "36321ca2-bb39-4266-aa66-763dd5548904",
   "metadata": {},
   "outputs": [
    {
     "name": "stdout",
     "output_type": "stream",
     "text": [
      "0.07466006278991699\n"
     ]
    }
   ],
   "source": [
    "# Vectorization\n",
    "import numpy as np \n",
    "import time\n",
    "size = 1_000_00_0\n",
    "list1 = np.array(list(range(size)))\n",
    "start = time.time()\n",
    "list2 = list1**2\n",
    "end = time.time()\n",
    "# print(list2)\n",
    "print(end-start)"
   ]
  },
  {
   "cell_type": "code",
   "execution_count": null,
   "id": "7b33feb2-de83-4d0a-b9ef-613a336353f6",
   "metadata": {},
   "outputs": [],
   "source": []
  }
 ],
 "metadata": {
  "kernelspec": {
   "display_name": "Python [conda env:base] *",
   "language": "python",
   "name": "conda-base-py"
  },
  "language_info": {
   "codemirror_mode": {
    "name": "ipython",
    "version": 3
   },
   "file_extension": ".py",
   "mimetype": "text/x-python",
   "name": "python",
   "nbconvert_exporter": "python",
   "pygments_lexer": "ipython3",
   "version": "3.12.7"
  }
 },
 "nbformat": 4,
 "nbformat_minor": 5
}
