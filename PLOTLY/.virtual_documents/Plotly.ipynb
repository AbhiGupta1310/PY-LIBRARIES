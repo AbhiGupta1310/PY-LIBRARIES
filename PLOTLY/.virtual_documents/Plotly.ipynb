


%config InlineBackend.figure_format = 'retina' 
import pandas as pd
import numpy as np 
import chart_studio.plotly as py 
import cufflinks as cf
import seaborn as sns 
import plotly.express as px
%matplotlib inline

from plotly.offline import download_plotlyjs , init_notebook_mode,plot,iplot
init_notebook_mode(connected = True)

cf.go_offline()






arr_1 = np.random.randn(50,4)
df_1  = pd.DataFrame(arr_1, columns = ['A','B','C','D'])
df_1.head()
df_1.iplot(title = "Interactive Plot")
# df_1.iplot(kind='scatter', mode='markers', x='A', y='B', size=10, title="Interactive Scatter Plot")






df_stocks


df_stocks.describe()


# Allows us to create graph objects for making more customized plot
import plotly.graph_objects as go
df_stocks = px.data.stocks()
fig1  = px.line(
    df_stocks, 
    x = 'date', 
    y  = 'MSFT', 
    labels = {'date':'Date','MSFT':'Price'},
    title='Microsoft Stock Price Over Time'
)
# Multiple line plots
fig2 = px.line(
    df_stocks, 
    x = 'date', 
    y  = ['MSFT', 'GOOG'],
    title='Multiple Stocks Price Over Time',
    labels = {'value': 'Price','variable':'Company','date':'Date'}
)
fig2.show()


# Create a figure to which I'll add plots
fig = go.Figure()
# You can pull individual columns of data from the dataset and use markers or not
fig.add_trace(go.Scatter(x=df_stocks.date, y=df_stocks.AAPL, 
                        mode='lines', name='Apple'))
fig.add_trace(go.Scatter(x=df_stocks.date, y=df_stocks.AMZN, 
                        mode='lines+markers', name='Amazon'))
# You can create custom lines (Dashes : dash, dot, dashdot)
fig.add_trace(go.Scatter(x=df_stocks.date, y=df_stocks.GOOG, 
                        mode='lines+markers', name='Google',
                        line=dict(color='firebrick', width=2, dash='dashdot')))
# Further style the figure
fig.update_layout(title='Stock Price Data 2018 - 2020',
                   xaxis_title='Price', yaxis_title='Date')

# Go crazy styling the figure
fig.update_layout(
    width=1000,  # Width of the figure
    height=600,  # Height of the figure
    # Shows gray line without grid, styling fonts, linewidths and more
    xaxis=dict(
        showline=True,
        showgrid=False,
        showticklabels=True,
        linecolor='rgb(204, 204, 204)',
        linewidth=2,
        ticks='outside',
        tickfont=dict(
            family='Arial',
            size=12,
            color='rgb(82, 82, 82)',
        ),
    ),
    # Turn off everything on y axis
    yaxis=dict(
        showgrid=False,
        zeroline=False,
        showline=False,
        showticklabels=False,
    ),
    autosize=False,
    margin=dict(
        autoexpand=False,
        l=100,
        r=20,
        t=110,
    ),
    showlegend=False,
    plot_bgcolor='white'
)


# Create a figure to which I'll add plots
fig = go.Figure()

# Add stock traces
fig.add_trace(go.Scatter(x = df_stocks.date , y = df_stocks.AAPL , mode = 'lines' , name = 'Apple' ))
fig.add_trace(go.Scatter(x = df_stocks.date , y = df_stocks.AMZN , mode = 'lines+markers' , name = 'Amazon' ))
fig.add_trace(go.Scatter(x = df_stocks.date , y = df_stocks.GOOG , mode = 'lines+markers' , name = 'Google',line=dict(color='firebrick', width=2, dash='dashdot')))


# Base layout styling
fig.update_layout(
    title='Stock Price Data 2018 - 2020',
    xaxis_title='Price',
    yaxis_title='Date',
    width=1000,
    height=600,
    
    # xaxis=dict(
    #     showline=True,
    #     showgrid=False,
    #     showticklabels=True,
    #     linecolor='rgb(204, 204, 204)',
    #     linewidth=2,
    #     ticks='outside',
    #     tickfont=dict(
    #         family='Arial',
    #         size=12,
    #         color='rgb(82, 82, 82)',
    #     ),
    # ),
    
    # yaxis=dict(
    #     showgrid=False,
    #     zeroline=False,
    #     showline=False,
    #     showticklabels=False,
    # ),
    
    # autosize=False,
    # margin=dict(
    #     autoexpand=False,
    #     l=80,   # Slightly reduce left margin
    #     r=100,  # Increase right margin to make space for legend
    #     t=100,
    #     b=80
    # ),
    
    # showlegend=True,  # ✅ Enable legend
    
    # legend=dict(     # ✅ Customize legend position
    #     x=0.01,       # X position (fraction of width)
    #     y=0.99,          # Y position (top)
    #     bgcolor='rgba(255,255,255,0)',  # Transparent background
    #     bordercolor='black',
    #     borderwidth=1,
    #     font=dict(
    #         family='Arial',
    #         size=12,
    #         color='black'
    #     )
    # ),
    
    plot_bgcolor='white'
)



df_stocks.columns



