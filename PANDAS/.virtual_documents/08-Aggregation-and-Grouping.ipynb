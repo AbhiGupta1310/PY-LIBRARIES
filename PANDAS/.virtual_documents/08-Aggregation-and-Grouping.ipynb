


import pandas as pd


df = pd.DataFrame({
    "Department": ["HR", "HR", "IT", "IT", "Marketing", "Marketing", "Sales", "Sales"],
    "Team": ["A", "A", "B", "B", "C", "C", "D", "D"],
    "Gender": ["M", "F", "M", "F", "M", "F", "M", "F"],
    "Salary": [85, 90, 78, 85, 92, 88, 75, 80],
    "Age": [23, 25, 30, 22, 28, 26, 21, 27],
    "JoinDate": pd.to_datetime([
        "2020-01-10", "2020-02-15", "2021-03-20", "2021-04-10",
        "2020-05-30", "2020-06-25", "2021-07-15", "2021-08-01"
    ])
})   


df


df.groupby("Department")["Salary"].mean()


df.groupby("Department")["Salary"].sum()


df.groupby("Department")["Salary"].count()


df.groupby("Department")["Salary"].min()


df.groupby("Department")["Salary"].max()


df.groupby("Gender")["Salary"].mean()


df.groupby("Gender")["Salary"].sum()


df.groupby("Gender")["Salary"].min()


df.groupby("Gender")["Salary"].max()


df.groupby("Gender")["JoinDate"].min()


df.groupby("Gender")["JoinDate"].max()


df.groupby("Team")["Salary"].agg(["mean","min","max"])


df.groupby("Team")["Salary"].agg(
    avg_salary = "mean",
    Highest_sal = "max",
    Lowest_sal = "min"
)


df["Team Avg" ] = df.groupby("Team")["Salary"].transform("mean")


df


df.groupby("Team").filter(lambda x : x["Salary"].mean() > 85)



