


import pandas as pd


df = pd.read_csv("data.csv")


df


df["Actor"]


df["Actor"][3]


type(df["Actor"])


df[["Actor","IMDb"]]


df.loc[1]


df.iloc[1]


df.loc[8,'IMDb']


df.iloc[8,5]


df.loc[0:3,["Actor","IMDb","Year"]]


df.iloc[0:3,0:3] # last index is exclusive


df.at[0,"Actor"] #it is optimized for searching one thing


df.iat[0,0]


df[df["IMDb"]>6 ]


df[df["IMDb"]>6 ]["Actor"]


df[(df["IMDb"]>6) & (df["Year"] > 2018) ]


df[(df["IMDb"]>6) | (df["Year"] > 2018) ]


df.query("Year > 2018 and IMDb > 6")


df.query("Year > 2018 or IMDb > 6")


df2 = df[["Actor","IMDb"]].copy()


df2



df2.loc[0,'Actor'] = 'Harry'


df2


df



