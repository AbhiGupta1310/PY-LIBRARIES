


import pandas as pd


df = pd.read_csv("data.csv")


df


df = df[df["IMDb"]>6]


df


data = [{"id": 1, "Name": "Alice" , "address":{"city":"Delhi","Zipcode":"110086"}},
        {"id": 2, "Name": "Bob" , "address":{"city":"Mumbai","Zipcode":"560100"}}
       ]


df = pd.json_normalize(data)


df


df.info()



