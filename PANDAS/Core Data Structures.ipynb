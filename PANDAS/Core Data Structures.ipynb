{
 "cells": [
  {
   "cell_type": "code",
   "execution_count": 2,
   "id": "79809122-44bc-4252-bf20-19ca5eaa9322",
   "metadata": {},
   "outputs": [],
   "source": [
    "import pandas as pd"
   ]
  },
  {
   "cell_type": "code",
   "execution_count": 12,
   "id": "8d4a2388-e3db-44c2-8b8d-f33e76c13532",
   "metadata": {},
   "outputs": [],
   "source": [
    "s1 = pd.Series([71,85,56,43,98,66])\n"
   ]
  },
  {
   "cell_type": "code",
   "execution_count": 14,
   "id": "161252ae-4a48-42ea-8a71-85bf01036c99",
   "metadata": {},
   "outputs": [
    {
     "data": {
      "text/plain": [
       "pandas.core.series.Series"
      ]
     },
     "execution_count": 14,
     "metadata": {},
     "output_type": "execute_result"
    }
   ],
   "source": [
    "type(s1)"
   ]
  },
  {
   "cell_type": "code",
   "execution_count": 16,
   "id": "964286a4-968a-4b47-8138-ad0d9d5ea331",
   "metadata": {},
   "outputs": [
    {
     "name": "stdout",
     "output_type": "stream",
     "text": [
      "0    71\n",
      "1    85\n",
      "2    56\n",
      "3    43\n",
      "4    98\n",
      "5    66\n",
      "dtype: int64\n"
     ]
    }
   ],
   "source": [
    "print(s1)"
   ]
  },
  {
   "cell_type": "code",
   "execution_count": 18,
   "id": "0d221f35-7d78-4c5d-aee2-ee44f5fc4026",
   "metadata": {},
   "outputs": [],
   "source": [
    "s2 = pd.Series([71,85,56,] , index = [\"Abhi\",\"Saumya\",\"Palak\"])\n"
   ]
  },
  {
   "cell_type": "code",
   "execution_count": 20,
   "id": "b5e8717f-ff68-4d8a-85f2-b14993775ec1",
   "metadata": {},
   "outputs": [
    {
     "data": {
      "text/plain": [
       "Abhi      71\n",
       "Saumya    85\n",
       "Palak     56\n",
       "dtype: int64"
      ]
     },
     "execution_count": 20,
     "metadata": {},
     "output_type": "execute_result"
    }
   ],
   "source": [
    "s2"
   ]
  },
  {
   "cell_type": "code",
   "execution_count": 22,
   "id": "e597ad8b-7ebf-4446-a130-6713cf774b72",
   "metadata": {},
   "outputs": [
    {
     "data": {
      "text/plain": [
       "71"
      ]
     },
     "execution_count": 22,
     "metadata": {},
     "output_type": "execute_result"
    }
   ],
   "source": [
    "s2[\"Abhi\"]"
   ]
  },
  {
   "cell_type": "code",
   "execution_count": 36,
   "id": "f284c40b-18c5-4d8b-b626-41103eb4b388",
   "metadata": {},
   "outputs": [],
   "source": [
    "data = {\n",
    "    \"name\":[\"Abhi\",\"Saumya\",\"Palak\"],\n",
    "    \"age\":[18,19,21],\n",
    "    \"city\":[\"Delhi\",\"Punjab\",\"Gorakhpur\"]\n",
    "}"
   ]
  },
  {
   "cell_type": "code",
   "execution_count": 38,
   "id": "97ad92a4-f8d8-4449-a771-2a066d12e562",
   "metadata": {},
   "outputs": [],
   "source": [
    "index_values = [10595,10393,10202]"
   ]
  },
  {
   "cell_type": "code",
   "execution_count": 57,
   "id": "ae0fe364-b6d6-42af-8667-60b3a63a00d9",
   "metadata": {},
   "outputs": [
    {
     "data": {
      "text/html": [
       "<div>\n",
       "<style scoped>\n",
       "    .dataframe tbody tr th:only-of-type {\n",
       "        vertical-align: middle;\n",
       "    }\n",
       "\n",
       "    .dataframe tbody tr th {\n",
       "        vertical-align: top;\n",
       "    }\n",
       "\n",
       "    .dataframe thead th {\n",
       "        text-align: right;\n",
       "    }\n",
       "</style>\n",
       "<table border=\"1\" class=\"dataframe\">\n",
       "  <thead>\n",
       "    <tr style=\"text-align: right;\">\n",
       "      <th></th>\n",
       "      <th>name</th>\n",
       "      <th>age</th>\n",
       "      <th>city</th>\n",
       "    </tr>\n",
       "  </thead>\n",
       "  <tbody>\n",
       "    <tr>\n",
       "      <th>10595</th>\n",
       "      <td>Abhi</td>\n",
       "      <td>18</td>\n",
       "      <td>Delhi</td>\n",
       "    </tr>\n",
       "    <tr>\n",
       "      <th>10393</th>\n",
       "      <td>Saumya</td>\n",
       "      <td>19</td>\n",
       "      <td>Punjab</td>\n",
       "    </tr>\n",
       "    <tr>\n",
       "      <th>10202</th>\n",
       "      <td>Palak</td>\n",
       "      <td>21</td>\n",
       "      <td>Gorakhpur</td>\n",
       "    </tr>\n",
       "  </tbody>\n",
       "</table>\n",
       "</div>"
      ],
      "text/plain": [
       "         name  age       city\n",
       "10595    Abhi   18      Delhi\n",
       "10393  Saumya   19     Punjab\n",
       "10202   Palak   21  Gorakhpur"
      ]
     },
     "execution_count": 57,
     "metadata": {},
     "output_type": "execute_result"
    }
   ],
   "source": [
    "df  = pd.DataFrame(data,index = index_values)\n",
    "df"
   ]
  },
  {
   "cell_type": "code",
   "execution_count": 61,
   "id": "3808822b-762b-4d80-8e4c-7250ed61ee4c",
   "metadata": {},
   "outputs": [
    {
     "data": {
      "text/html": [
       "<div>\n",
       "<style scoped>\n",
       "    .dataframe tbody tr th:only-of-type {\n",
       "        vertical-align: middle;\n",
       "    }\n",
       "\n",
       "    .dataframe tbody tr th {\n",
       "        vertical-align: top;\n",
       "    }\n",
       "\n",
       "    .dataframe thead th {\n",
       "        text-align: right;\n",
       "    }\n",
       "</style>\n",
       "<table border=\"1\" class=\"dataframe\">\n",
       "  <thead>\n",
       "    <tr style=\"text-align: right;\">\n",
       "      <th></th>\n",
       "      <th>name</th>\n",
       "      <th>age</th>\n",
       "      <th>city</th>\n",
       "    </tr>\n",
       "    <tr>\n",
       "      <th>Student_id</th>\n",
       "      <th></th>\n",
       "      <th></th>\n",
       "      <th></th>\n",
       "    </tr>\n",
       "  </thead>\n",
       "  <tbody>\n",
       "    <tr>\n",
       "      <th>10595</th>\n",
       "      <td>Abhi</td>\n",
       "      <td>18</td>\n",
       "      <td>Delhi</td>\n",
       "    </tr>\n",
       "    <tr>\n",
       "      <th>10393</th>\n",
       "      <td>Saumya</td>\n",
       "      <td>19</td>\n",
       "      <td>Punjab</td>\n",
       "    </tr>\n",
       "    <tr>\n",
       "      <th>10202</th>\n",
       "      <td>Palak</td>\n",
       "      <td>21</td>\n",
       "      <td>Gorakhpur</td>\n",
       "    </tr>\n",
       "  </tbody>\n",
       "</table>\n",
       "</div>"
      ],
      "text/plain": [
       "              name  age       city\n",
       "Student_id                        \n",
       "10595         Abhi   18      Delhi\n",
       "10393       Saumya   19     Punjab\n",
       "10202        Palak   21  Gorakhpur"
      ]
     },
     "execution_count": 61,
     "metadata": {},
     "output_type": "execute_result"
    }
   ],
   "source": [
    "df = pd.DataFrame(data,index=pd.Index(index_values,name=\"Student_id\"))\n",
    "df"
   ]
  },
  {
   "cell_type": "code",
   "execution_count": 63,
   "id": "f9da72e4-995f-4ac8-a9fb-7277f5cd99ec",
   "metadata": {},
   "outputs": [
    {
     "data": {
      "text/plain": [
       "Index([10595, 10393, 10202], dtype='int64', name='Student_id')"
      ]
     },
     "execution_count": 63,
     "metadata": {},
     "output_type": "execute_result"
    }
   ],
   "source": [
    "df.index"
   ]
  },
  {
   "cell_type": "code",
   "execution_count": 65,
   "id": "9d40eda8-2fae-4f15-87b3-0aeba3b4f014",
   "metadata": {},
   "outputs": [
    {
     "data": {
      "text/plain": [
       "Index(['name', 'age', 'city'], dtype='object')"
      ]
     },
     "execution_count": 65,
     "metadata": {},
     "output_type": "execute_result"
    }
   ],
   "source": [
    "df.columns"
   ]
  },
  {
   "cell_type": "code",
   "execution_count": null,
   "id": "d298924d-080a-43b8-91d3-59778ac0f800",
   "metadata": {},
   "outputs": [],
   "source": []
  }
 ],
 "metadata": {
  "kernelspec": {
   "display_name": "Python [conda env:base] *",
   "language": "python",
   "name": "conda-base-py"
  },
  "language_info": {
   "codemirror_mode": {
    "name": "ipython",
    "version": 3
   },
   "file_extension": ".py",
   "mimetype": "text/x-python",
   "name": "python",
   "nbconvert_exporter": "python",
   "pygments_lexer": "ipython3",
   "version": "3.12.7"
  }
 },
 "nbformat": 4,
 "nbformat_minor": 5
}
